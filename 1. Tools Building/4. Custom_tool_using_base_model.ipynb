{
 "cells": [
  {
   "cell_type": "code",
   "execution_count": null,
   "id": "e5be83f1",
   "metadata": {},
   "outputs": [],
   "source": [
    "from langch"
   ]
  }
 ],
 "metadata": {
  "kernelspec": {
   "display_name": "venv",
   "language": "python",
   "name": "python3"
  },
  "language_info": {
   "name": "python",
   "version": "3.12.2"
  }
 },
 "nbformat": 4,
 "nbformat_minor": 5
}
