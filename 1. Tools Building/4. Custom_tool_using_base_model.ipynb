{
 "cells": [
  {
   "cell_type": "code",
   "execution_count": 3,
   "id": "e5be83f1",
   "metadata": {},
   "outputs": [],
   "source": [
    "from langchain_core.tools import BaseTool\n",
    "from pydantic import BaseModel,Field\n",
    "from typing import Type"
   ]
  },
  {
   "cell_type": "code",
   "execution_count": 5,
   "id": "c375a99d",
   "metadata": {},
   "outputs": [],
   "source": [
    "class Multiply_input(BaseModel):\n",
    "    a: int = Field(required=True, description='First Number')\n",
    "    b: int = Field(required=True, description=\"Second Number\")"
   ]
  },
  {
   "cell_type": "code",
   "execution_count": 10,
   "id": "f2ba977c",
   "metadata": {},
   "outputs": [],
   "source": [
    "class MultiplyTool(BaseTool):\n",
    "    name: str = 'multiply'\n",
    "    description: str = 'This multiplies two numbers'\n",
    "    args_schema: Type[BaseModel] = Multiply_input\n",
    "    \n",
    "    def _run(self, a:int, b:int) -> int:\n",
    "        return a*b"
   ]
  },
  {
   "cell_type": "code",
   "execution_count": 11,
   "id": "fbf2453b",
   "metadata": {},
   "outputs": [],
   "source": [
    "mult_tool = MultiplyTool()"
   ]
  },
  {
   "cell_type": "code",
   "execution_count": 13,
   "id": "c84f8b58",
   "metadata": {},
   "outputs": [],
   "source": [
    "res = mult_tool.invoke({'a':6, 'b':3})"
   ]
  },
  {
   "cell_type": "code",
   "execution_count": 14,
   "id": "1a142e33",
   "metadata": {},
   "outputs": [
    {
     "name": "stdout",
     "output_type": "stream",
     "text": [
      "18\n"
     ]
    }
   ],
   "source": [
    "print(res)"
   ]
  },
  {
   "cell_type": "code",
   "execution_count": null,
   "id": "4dd5089f",
   "metadata": {},
   "outputs": [],
   "source": []
  }
 ],
 "metadata": {
  "kernelspec": {
   "display_name": "venv",
   "language": "python",
   "name": "python3"
  },
  "language_info": {
   "codemirror_mode": {
    "name": "ipython",
    "version": 3
   },
   "file_extension": ".py",
   "mimetype": "text/x-python",
   "name": "python",
   "nbconvert_exporter": "python",
   "pygments_lexer": "ipython3",
   "version": "3.12.2"
  }
 },
 "nbformat": 4,
 "nbformat_minor": 5
}
