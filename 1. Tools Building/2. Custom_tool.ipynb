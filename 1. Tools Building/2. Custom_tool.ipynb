{
 "cells": [
  {
   "cell_type": "code",
   "execution_count": 2,
   "id": "4e44b0da",
   "metadata": {},
   "outputs": [],
   "source": [
    "from langchain_core.tools import tool"
   ]
  },
  {
   "cell_type": "code",
   "execution_count": 4,
   "id": "0ea6d4e1",
   "metadata": {},
   "outputs": [],
   "source": [
    "@tool\n",
    "def multiply(a:int, b:int) -> int:\n",
    "    \"\"\" This is a function which  multipy two numbers.\n",
    "\n",
    "    Args:\n",
    "        a (int): first Number\n",
    "        b (int): second number\n",
    "\n",
    "    Returns:\n",
    "        int: it return multiplication of a and b\n",
    "    \"\"\"\n",
    "    \n",
    "    return a*b\n",
    "    "
   ]
  },
  {
   "cell_type": "code",
   "execution_count": 8,
   "id": "84bb3b4e",
   "metadata": {},
   "outputs": [],
   "source": [
    "res = multiply.invoke({\"a\":5,\"b\":8})"
   ]
  },
  {
   "cell_type": "code",
   "execution_count": 9,
   "id": "f2fe629f",
   "metadata": {},
   "outputs": [
    {
     "name": "stdout",
     "output_type": "stream",
     "text": [
      "40\n"
     ]
    }
   ],
   "source": [
    "print(res)"
   ]
  },
  {
   "cell_type": "code",
   "execution_count": 10,
   "id": "06f16648",
   "metadata": {},
   "outputs": [
    {
     "name": "stdout",
     "output_type": "stream",
     "text": [
      "multiply\n",
      "This is a function which  multipy two numbers.\n",
      "\n",
      "   Args:\n",
      "       a (int): first Number\n",
      "       b (int): second number\n",
      "\n",
      "   Returns:\n",
      "       int: it return multiplication of a and b\n",
      "{'a': {'title': 'A', 'type': 'integer'}, 'b': {'title': 'B', 'type': 'integer'}}\n"
     ]
    }
   ],
   "source": [
    "print(multiply.name)\n",
    "print(multiply.description)\n",
    "print(multiply.args)"
   ]
  },
  {
   "cell_type": "code",
   "execution_count": 12,
   "id": "c78600d5",
   "metadata": {},
   "outputs": [
    {
     "name": "stdout",
     "output_type": "stream",
     "text": [
      "{'description': 'This is a function which  multipy two numbers.\\n\\nArgs:\\n    a (int): first Number\\n    b (int): second number\\n\\nReturns:\\n    int: it return multiplication of a and b', 'properties': {'a': {'title': 'A', 'type': 'integer'}, 'b': {'title': 'B', 'type': 'integer'}}, 'required': ['a', 'b'], 'title': 'multiply', 'type': 'object'}\n"
     ]
    }
   ],
   "source": [
    "print(multiply.args_schema.model_json_schema())"
   ]
  },
  {
   "cell_type": "code",
   "execution_count": null,
   "id": "5dd0b16b",
   "metadata": {},
   "outputs": [],
   "source": []
  }
 ],
 "metadata": {
  "kernelspec": {
   "display_name": "venv",
   "language": "python",
   "name": "python3"
  },
  "language_info": {
   "codemirror_mode": {
    "name": "ipython",
    "version": 3
   },
   "file_extension": ".py",
   "mimetype": "text/x-python",
   "name": "python",
   "nbconvert_exporter": "python",
   "pygments_lexer": "ipython3",
   "version": "3.12.2"
  }
 },
 "nbformat": 4,
 "nbformat_minor": 5
}
