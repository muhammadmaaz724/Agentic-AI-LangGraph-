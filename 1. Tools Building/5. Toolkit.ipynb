{
 "cells": [
  {
   "cell_type": "code",
   "execution_count": 1,
   "id": "1cae8392",
   "metadata": {},
   "outputs": [],
   "source": [
    "from langchain_core.tools import tool"
   ]
  },
  {
   "cell_type": "code",
   "execution_count": 2,
   "id": "b439da2c",
   "metadata": {},
   "outputs": [],
   "source": [
    "@tool\n",
    "def addition(a:int, b:int) -> int:\n",
    "    \"\"\"Add two numbers\"\"\"\n",
    "    return a+b\n",
    "\n",
    "@tool\n",
    "def multiplication(a:int, b:int) -> int:\n",
    "    \"\"\"Multiply two numbers\"\"\"\n",
    "    return a*b"
   ]
  },
  {
   "cell_type": "code",
   "execution_count": 3,
   "id": "8f3a17e2",
   "metadata": {},
   "outputs": [],
   "source": [
    "class mathtoolkit:\n",
    "    def get_tools(self):\n",
    "        return [addition,multiplication]"
   ]
  },
  {
   "cell_type": "code",
   "execution_count": 5,
   "id": "6e18d5cf",
   "metadata": {},
   "outputs": [],
   "source": [
    "toolkit = mathtoolkit()\n",
    "tools = toolkit.get_tools()"
   ]
  },
  {
   "cell_type": "code",
   "execution_count": 6,
   "id": "442c6e53",
   "metadata": {},
   "outputs": [
    {
     "name": "stdout",
     "output_type": "stream",
     "text": [
      "addition => Add two numbers\n",
      "multiplication => Multiply two numbers\n"
     ]
    }
   ],
   "source": [
    "for tool in tools:\n",
    "    print(tool.name + \" => \" + tool.description)"
   ]
  },
  {
   "cell_type": "code",
   "execution_count": null,
   "id": "8e3aebaf",
   "metadata": {},
   "outputs": [],
   "source": []
  }
 ],
 "metadata": {
  "kernelspec": {
   "display_name": "venv",
   "language": "python",
   "name": "python3"
  },
  "language_info": {
   "codemirror_mode": {
    "name": "ipython",
    "version": 3
   },
   "file_extension": ".py",
   "mimetype": "text/x-python",
   "name": "python",
   "nbconvert_exporter": "python",
   "pygments_lexer": "ipython3",
   "version": "3.12.2"
  }
 },
 "nbformat": 4,
 "nbformat_minor": 5
}
