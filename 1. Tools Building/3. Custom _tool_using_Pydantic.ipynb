{
 "cells": [
  {
   "cell_type": "code",
   "execution_count": 1,
   "id": "54ca17a4",
   "metadata": {},
   "outputs": [],
   "source": [
    "from langchain_core.tools import StructuredTool\n",
    "from pydantic import BaseModel,Field"
   ]
  },
  {
   "cell_type": "code",
   "execution_count": 3,
   "id": "2a3753ca",
   "metadata": {},
   "outputs": [],
   "source": [
    "class multiply_input(BaseModel):\n",
    "    a: int = Field(required=True, description='First input')\n",
    "    b: int = Field(required=True, description=\"Second input\")"
   ]
  },
  {
   "cell_type": "code",
   "execution_count": 4,
   "id": "9adf125c",
   "metadata": {},
   "outputs": [],
   "source": [
    "def multiply(a:int, b:int) -> int:\n",
    "    return a*b"
   ]
  },
  {
   "cell_type": "code",
   "execution_count": 5,
   "id": "646c4201",
   "metadata": {},
   "outputs": [],
   "source": [
    "tool = StructuredTool.from_function(\n",
    "    func=multiply,\n",
    "    name='multiply',\n",
    "    description=\"This function multiplies two numbers\",\n",
    "    args_schema=multiply_input\n",
    ")"
   ]
  },
  {
   "cell_type": "code",
   "execution_count": 6,
   "id": "6acc5719",
   "metadata": {},
   "outputs": [],
   "source": [
    "res = tool.invoke({\"a\":4, \"b\":3})"
   ]
  },
  {
   "cell_type": "code",
   "execution_count": 7,
   "id": "9576c28a",
   "metadata": {},
   "outputs": [
    {
     "name": "stdout",
     "output_type": "stream",
     "text": [
      "12\n"
     ]
    }
   ],
   "source": [
    "print(res)"
   ]
  },
  {
   "cell_type": "code",
   "execution_count": null,
   "id": "9697eef4",
   "metadata": {},
   "outputs": [],
   "source": []
  }
 ],
 "metadata": {
  "kernelspec": {
   "display_name": "venv",
   "language": "python",
   "name": "python3"
  },
  "language_info": {
   "codemirror_mode": {
    "name": "ipython",
    "version": 3
   },
   "file_extension": ".py",
   "mimetype": "text/x-python",
   "name": "python",
   "nbconvert_exporter": "python",
   "pygments_lexer": "ipython3",
   "version": "3.12.2"
  }
 },
 "nbformat": 4,
 "nbformat_minor": 5
}
