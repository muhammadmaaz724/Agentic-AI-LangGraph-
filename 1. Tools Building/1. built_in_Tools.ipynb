{
 "cells": [
  {
   "cell_type": "code",
   "execution_count": 8,
   "id": "639254e5",
   "metadata": {},
   "outputs": [],
   "source": [
    "from langchain_community.tools import DuckDuckGoSearchRun\n",
    "from ddgs import DDGS"
   ]
  },
  {
   "cell_type": "code",
   "execution_count": 13,
   "id": "3ad7c8d6",
   "metadata": {},
   "outputs": [
    {
     "name": "stderr",
     "output_type": "stream",
     "text": [
      "d:\\Agentic AI LangGraph\\venv\\Lib\\site-packages\\langchain_community\\utilities\\duckduckgo_search.py:63: RuntimeWarning: This package (`duckduckgo_search`) has been renamed to `ddgs`! Use `pip install ddgs` instead.\n",
      "  with DDGS() as ddgs:\n"
     ]
    }
   ],
   "source": [
    "search_engine = DuckDuckGoSearchRun()\n",
    "\n",
    "res = search_engine.invoke(\"pakistan news\")"
   ]
  },
  {
   "cell_type": "code",
   "execution_count": 14,
   "id": "6b076d5d",
   "metadata": {},
   "outputs": [
    {
     "data": {
      "text/plain": [
       "\"3 days ago · Pakistan’s most trusted outlet for the breaking, latest and top news across the country and the world. Geo News provides latest and breaking news. 4 days ago · Stocks cheer Pakistan-US energy agreement Conor McGregor resumes UFC drug testing, hints at 2026 return India’s proxy web: Afghan general’s revelation validates Pakistan’s stance Pakistan News: Get the latest breaking news and news updates from Pakistan. Find all current Pakistani news about events, incidents, issues, people from Pakistan. Read the latest Pakistan news, today's breaking news, top news headlines and stay up to date with live coverage on Politics, Current Affairs, Sports, Entertainment, Technology, Business at Pakistan TV English from Pakistan Times\""
      ]
     },
     "execution_count": 14,
     "metadata": {},
     "output_type": "execute_result"
    }
   ],
   "source": [
    "res"
   ]
  },
  {
   "cell_type": "code",
   "execution_count": null,
   "id": "9d89bf88",
   "metadata": {},
   "outputs": [],
   "source": []
  },
  {
   "cell_type": "code",
   "execution_count": 15,
   "id": "71764813",
   "metadata": {},
   "outputs": [],
   "source": [
    "from langchain_community.tools import ShellTool"
   ]
  },
  {
   "cell_type": "code",
   "execution_count": 16,
   "id": "75ecf4cc",
   "metadata": {},
   "outputs": [
    {
     "name": "stdout",
     "output_type": "stream",
     "text": [
      "Executing command:\n",
      " whoami\n"
     ]
    },
    {
     "name": "stderr",
     "output_type": "stream",
     "text": [
      "d:\\Agentic AI LangGraph\\venv\\Lib\\site-packages\\langchain_community\\tools\\shell\\tool.py:33: UserWarning: The shell tool has no safeguards by default. Use at your own risk.\n",
      "  warnings.warn(\n"
     ]
    }
   ],
   "source": [
    "shell = ShellTool()\n",
    "\n",
    "res = shell.invoke(\"whoami\")"
   ]
  },
  {
   "cell_type": "code",
   "execution_count": 18,
   "id": "6b25b7f7",
   "metadata": {},
   "outputs": [
    {
     "name": "stdout",
     "output_type": "stream",
     "text": [
      "muhammadmaaz\\pmyls\n",
      "\n"
     ]
    }
   ],
   "source": [
    "print(res)"
   ]
  },
  {
   "cell_type": "code",
   "execution_count": null,
   "id": "6a08a5d7",
   "metadata": {},
   "outputs": [],
   "source": []
  }
 ],
 "metadata": {
  "kernelspec": {
   "display_name": "venv",
   "language": "python",
   "name": "python3"
  },
  "language_info": {
   "codemirror_mode": {
    "name": "ipython",
    "version": 3
   },
   "file_extension": ".py",
   "mimetype": "text/x-python",
   "name": "python",
   "nbconvert_exporter": "python",
   "pygments_lexer": "ipython3",
   "version": "3.12.2"
  }
 },
 "nbformat": 4,
 "nbformat_minor": 5
}
