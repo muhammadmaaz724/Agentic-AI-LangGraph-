{
 "cells": [
  {
   "cell_type": "code",
   "execution_count": 1,
   "id": "8e3cccdc",
   "metadata": {},
   "outputs": [],
   "source": [
    "from langchain_groq import ChatGroq\n",
    "from dotenv import load_dotenv\n",
    "from langchain_core.tools import tool\n",
    "from langchain_core.messages import HumanMessage\n",
    "import requests\n",
    "from langchain_core.tools import InjectedToolArg\n",
    "from typing import Annotated"
   ]
  },
  {
   "cell_type": "code",
   "execution_count": 2,
   "id": "ae25995d",
   "metadata": {},
   "outputs": [],
   "source": [
    "load_dotenv()\n",
    "\n",
    "model = ChatGroq(\n",
    "    model='llama-3.3-70b-versatile',\n",
    "    temperature=0.3\n",
    ")"
   ]
  },
  {
   "cell_type": "code",
   "execution_count": 3,
   "id": "ee4ddf09",
   "metadata": {},
   "outputs": [],
   "source": [
    "# tool create\n",
    "from langchain_core.tools import InjectedToolArg\n",
    "from typing import Annotated\n",
    "\n",
    "@tool\n",
    "def get_conversion_factor(base_currency: str, target_currency: str) -> float:\n",
    "  \"\"\"\n",
    "  This function fetches the currency conversion factor between a given base currency and a target currency\n",
    "  \"\"\"\n",
    "  url = f'https://v6.exchangerate-api.com/v6/3315923e0c0a186fa08b4de4/pair/{base_currency}/{target_currency}'\n",
    "\n",
    "  response = requests.get(url)\n",
    "\n",
    "  return response.json()\n"
   ]
  },
  {
   "cell_type": "code",
   "execution_count": 4,
   "id": "0e3b533d",
   "metadata": {},
   "outputs": [],
   "source": [
    "\n",
    "@tool\n",
    "def convert(base_currency_value: int, conversion_rate: Annotated[float, InjectedToolArg]) -> float:\n",
    "  \"\"\"\n",
    "  given a currency conversion rate this function calculates the target currency value from a given base currency value\n",
    "  \"\"\"\n",
    "\n",
    "  return base_currency_value * conversion_rate\n"
   ]
  },
  {
   "cell_type": "code",
   "execution_count": 5,
   "id": "6e8e94d6",
   "metadata": {},
   "outputs": [],
   "source": [
    "model_with_tools = model.bind_tools([get_conversion_factor, convert])"
   ]
  },
  {
   "cell_type": "code",
   "execution_count": 6,
   "id": "8b4842fa",
   "metadata": {},
   "outputs": [],
   "source": [
    "res = model_with_tools.invoke(\"what is the conversion factor of USD and PKR, and can you convert 10 usd to pkr\")"
   ]
  },
  {
   "cell_type": "code",
   "execution_count": 7,
   "id": "e0b664ff",
   "metadata": {},
   "outputs": [],
   "source": [
    "messages = [HumanMessage(\"what is the conversion factor of USD and PKR, and can you convert 10 usd to pkr\")]"
   ]
  },
  {
   "cell_type": "code",
   "execution_count": 8,
   "id": "d4f1901c",
   "metadata": {},
   "outputs": [],
   "source": [
    "messages.append(res)"
   ]
  },
  {
   "cell_type": "code",
   "execution_count": 9,
   "id": "b61a06e2",
   "metadata": {},
   "outputs": [
    {
     "data": {
      "text/plain": [
       "[HumanMessage(content='what is the conversion factor of USD and PKR, and can you convert 10 usd to pkr', additional_kwargs={}, response_metadata={}),\n",
       " AIMessage(content='', additional_kwargs={'tool_calls': [{'id': 'nmy88c6r3', 'function': {'arguments': '{\"base_currency\":\"USD\",\"target_currency\":\"PKR\"}', 'name': 'get_conversion_factor'}, 'type': 'function'}, {'id': '9kypca2zp', 'function': {'arguments': '{\"base_currency_value\":10}', 'name': 'convert'}, 'type': 'function'}]}, response_metadata={'token_usage': {'completion_tokens': 38, 'prompt_tokens': 347, 'total_tokens': 385, 'completion_time': 0.065738836, 'prompt_time': 0.047521595, 'queue_time': 0.050103635, 'total_time': 0.113260431}, 'model_name': 'llama-3.3-70b-versatile', 'system_fingerprint': 'fp_6507bcfb6f', 'service_tier': 'on_demand', 'finish_reason': 'tool_calls', 'logprobs': None}, id='run--2f3a824c-7186-4519-bbfc-d0f7b46dba3a-0', tool_calls=[{'name': 'get_conversion_factor', 'args': {'base_currency': 'USD', 'target_currency': 'PKR'}, 'id': 'nmy88c6r3', 'type': 'tool_call'}, {'name': 'convert', 'args': {'base_currency_value': 10}, 'id': '9kypca2zp', 'type': 'tool_call'}], usage_metadata={'input_tokens': 347, 'output_tokens': 38, 'total_tokens': 385})]"
      ]
     },
     "execution_count": 9,
     "metadata": {},
     "output_type": "execute_result"
    }
   ],
   "source": [
    "messages"
   ]
  },
  {
   "cell_type": "code",
   "execution_count": 10,
   "id": "08f9e3ba",
   "metadata": {},
   "outputs": [],
   "source": [
    "import json\n",
    "\n",
    "for tool in res.tool_calls:\n",
    "    if tool['name'] == 'get_conversion_factor':\n",
    "        tool_message = get_conversion_factor.invoke(tool)\n",
    "        conversion_rate = json.loads(tool_message.content)['conversion_rate']\n",
    "        messages.append(tool_message)\n",
    "        \n",
    "    if tool['name'] == \"convert\":\n",
    "        tool['args']['conversion_rate'] = conversion_rate\n",
    "        tool_message2 = convert.invoke(tool)\n",
    "        messages.append(tool_message2)"
   ]
  },
  {
   "cell_type": "code",
   "execution_count": 11,
   "id": "883e8539",
   "metadata": {},
   "outputs": [
    {
     "data": {
      "text/plain": [
       "[HumanMessage(content='what is the conversion factor of USD and PKR, and can you convert 10 usd to pkr', additional_kwargs={}, response_metadata={}),\n",
       " AIMessage(content='', additional_kwargs={'tool_calls': [{'id': 'nmy88c6r3', 'function': {'arguments': '{\"base_currency\":\"USD\",\"target_currency\":\"PKR\"}', 'name': 'get_conversion_factor'}, 'type': 'function'}, {'id': '9kypca2zp', 'function': {'arguments': '{\"base_currency_value\":10}', 'name': 'convert'}, 'type': 'function'}]}, response_metadata={'token_usage': {'completion_tokens': 38, 'prompt_tokens': 347, 'total_tokens': 385, 'completion_time': 0.065738836, 'prompt_time': 0.047521595, 'queue_time': 0.050103635, 'total_time': 0.113260431}, 'model_name': 'llama-3.3-70b-versatile', 'system_fingerprint': 'fp_6507bcfb6f', 'service_tier': 'on_demand', 'finish_reason': 'tool_calls', 'logprobs': None}, id='run--2f3a824c-7186-4519-bbfc-d0f7b46dba3a-0', tool_calls=[{'name': 'get_conversion_factor', 'args': {'base_currency': 'USD', 'target_currency': 'PKR'}, 'id': 'nmy88c6r3', 'type': 'tool_call'}, {'name': 'convert', 'args': {'base_currency_value': 10, 'conversion_rate': 283.637}, 'id': '9kypca2zp', 'type': 'tool_call'}], usage_metadata={'input_tokens': 347, 'output_tokens': 38, 'total_tokens': 385}),\n",
       " ToolMessage(content='{\"result\": \"success\", \"documentation\": \"https://www.exchangerate-api.com/docs\", \"terms_of_use\": \"https://www.exchangerate-api.com/terms\", \"time_last_update_unix\": 1754870402, \"time_last_update_utc\": \"Mon, 11 Aug 2025 00:00:02 +0000\", \"time_next_update_unix\": 1754956802, \"time_next_update_utc\": \"Tue, 12 Aug 2025 00:00:02 +0000\", \"base_code\": \"USD\", \"target_code\": \"PKR\", \"conversion_rate\": 283.637}', name='get_conversion_factor', tool_call_id='nmy88c6r3'),\n",
       " ToolMessage(content='2836.37', name='convert', tool_call_id='9kypca2zp')]"
      ]
     },
     "execution_count": 11,
     "metadata": {},
     "output_type": "execute_result"
    }
   ],
   "source": [
    "messages"
   ]
  },
  {
   "cell_type": "code",
   "execution_count": 13,
   "id": "cfbff125",
   "metadata": {},
   "outputs": [],
   "source": [
    "output = model_with_tools.invoke(messages)"
   ]
  },
  {
   "cell_type": "code",
   "execution_count": 15,
   "id": "54ca5c94",
   "metadata": {},
   "outputs": [
    {
     "name": "stdout",
     "output_type": "stream",
     "text": [
      "The conversion factor of USD to PKR is 283.637. \n",
      "\n",
      "10 USD is equivalent to 2836.37 PKR.\n"
     ]
    }
   ],
   "source": [
    "print(output.content)"
   ]
  },
  {
   "cell_type": "code",
   "execution_count": null,
   "id": "3a92eff6",
   "metadata": {},
   "outputs": [],
   "source": []
  }
 ],
 "metadata": {
  "kernelspec": {
   "display_name": "venv",
   "language": "python",
   "name": "python3"
  },
  "language_info": {
   "codemirror_mode": {
    "name": "ipython",
    "version": 3
   },
   "file_extension": ".py",
   "mimetype": "text/x-python",
   "name": "python",
   "nbconvert_exporter": "python",
   "pygments_lexer": "ipython3",
   "version": "3.12.2"
  }
 },
 "nbformat": 4,
 "nbformat_minor": 5
}
