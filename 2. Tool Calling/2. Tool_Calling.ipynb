{
 "cells": [
  {
   "cell_type": "code",
   "execution_count": 2,
   "id": "677d1801",
   "metadata": {},
   "outputs": [],
   "source": [
    "from langchain_groq import ChatGroq\n",
    "from dotenv import load_dotenv\n",
    "from langchain_core.messages import HumanMessage\n",
    "import requests\n",
    "from langchain_core.tools import tool"
   ]
  },
  {
   "cell_type": "code",
   "execution_count": 3,
   "id": "1cc40e08",
   "metadata": {},
   "outputs": [],
   "source": [
    "@tool\n",
    "def multiply(a:int, b:int) -> int:\n",
    "    \"\"\"This function when given input of two numbers a and b it returns its product\"\"\"\n",
    "    \n",
    "    return a*b"
   ]
  },
  {
   "cell_type": "code",
   "execution_count": 4,
   "id": "e4780154",
   "metadata": {},
   "outputs": [],
   "source": [
    "@tool\n",
    "def addition(a:int, b:int) -> int:\n",
    "    \"\"\"This function when given input of two numbers a and b it returns its addition\"\"\"\n",
    "    \n",
    "    return a+b"
   ]
  },
  {
   "cell_type": "code",
   "execution_count": 7,
   "id": "20f60bf4",
   "metadata": {},
   "outputs": [],
   "source": [
    "load_dotenv()\n",
    "\n",
    "model = ChatGroq(\n",
    "    model= 'llama-3.3-70b-versatile',\n",
    "    temperature=0.3\n",
    ")"
   ]
  },
  {
   "cell_type": "code",
   "execution_count": 9,
   "id": "b77d2953",
   "metadata": {},
   "outputs": [],
   "source": [
    "model_with_tools = model.bind_tools([multiply,addition])"
   ]
  },
  {
   "cell_type": "code",
   "execution_count": 10,
   "id": "fa7627e3",
   "metadata": {},
   "outputs": [
    {
     "data": {
      "text/plain": [
       "AIMessage(content=\"I'm doing well, thanks for asking. Is there something I can help you with or would you like to chat?\", additional_kwargs={}, response_metadata={'token_usage': {'completion_tokens': 25, 'prompt_tokens': 317, 'total_tokens': 342, 'completion_time': 0.065599636, 'prompt_time': 0.030586782, 'queue_time': 0.001874514, 'total_time': 0.096186418}, 'model_name': 'llama-3.3-70b-versatile', 'system_fingerprint': 'fp_3f3b593e33', 'service_tier': 'on_demand', 'finish_reason': 'stop', 'logprobs': None}, id='run--f4554ea9-3b34-49db-95f7-de6d8e1ac31c-0', usage_metadata={'input_tokens': 317, 'output_tokens': 25, 'total_tokens': 342})"
      ]
     },
     "execution_count": 10,
     "metadata": {},
     "output_type": "execute_result"
    }
   ],
   "source": [
    "model_with_tools.invoke(\"Hi how are you\")"
   ]
  },
  {
   "cell_type": "code",
   "execution_count": 11,
   "id": "7d5df0fa",
   "metadata": {},
   "outputs": [
    {
     "data": {
      "text/plain": [
       "AIMessage(content='', additional_kwargs={'tool_calls': [{'id': 'q0e4p8fk3', 'function': {'arguments': '{\"a\":3,\"b\":4}', 'name': 'multiply'}, 'type': 'function'}]}, response_metadata={'token_usage': {'completion_tokens': 19, 'prompt_tokens': 321, 'total_tokens': 340, 'completion_time': 0.033871734, 'prompt_time': 0.037676523, 'queue_time': 0.002106385, 'total_time': 0.071548257}, 'model_name': 'llama-3.3-70b-versatile', 'system_fingerprint': 'fp_3f3b593e33', 'service_tier': 'on_demand', 'finish_reason': 'tool_calls', 'logprobs': None}, id='run--5ad721c2-0c7d-4e0b-ba03-b22f840e0a79-0', tool_calls=[{'name': 'multiply', 'args': {'a': 3, 'b': 4}, 'id': 'q0e4p8fk3', 'type': 'tool_call'}], usage_metadata={'input_tokens': 321, 'output_tokens': 19, 'total_tokens': 340})"
      ]
     },
     "execution_count": 11,
     "metadata": {},
     "output_type": "execute_result"
    }
   ],
   "source": [
    "model_with_tools.invoke(\"Can you multiply 3 with 4\")"
   ]
  },
  {
   "cell_type": "code",
   "execution_count": null,
   "id": "68cca048",
   "metadata": {},
   "outputs": [],
   "source": []
  }
 ],
 "metadata": {
  "kernelspec": {
   "display_name": "venv",
   "language": "python",
   "name": "python3"
  },
  "language_info": {
   "codemirror_mode": {
    "name": "ipython",
    "version": 3
   },
   "file_extension": ".py",
   "mimetype": "text/x-python",
   "name": "python",
   "nbconvert_exporter": "python",
   "pygments_lexer": "ipython3",
   "version": "3.12.2"
  }
 },
 "nbformat": 4,
 "nbformat_minor": 5
}
