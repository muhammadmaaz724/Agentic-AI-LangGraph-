{
 "cells": [
  {
   "cell_type": "code",
   "execution_count": 1,
   "id": "3458ee13",
   "metadata": {},
   "outputs": [],
   "source": [
    "from langchain_groq import ChatGroq\n",
    "from dotenv import load_dotenv\n",
    "from langchain_core.messages import HumanMessage\n",
    "import requests\n",
    "from langchain_core.tools import tool"
   ]
  },
  {
   "cell_type": "code",
   "execution_count": 2,
   "id": "09411d16",
   "metadata": {},
   "outputs": [],
   "source": [
    "@tool\n",
    "def multiply(a:int, b:int) -> int:\n",
    "    \"\"\"This function when given input of two numbers a and b it returns its product\"\"\"\n",
    "    \n",
    "    return a*b"
   ]
  },
  {
   "cell_type": "code",
   "execution_count": 3,
   "id": "77bea421",
   "metadata": {},
   "outputs": [],
   "source": [
    "@tool\n",
    "def addition(a:int, b:int) -> int:\n",
    "    \"\"\"This function when given input of two numbers a and b it returns its addition\"\"\"\n",
    "    \n",
    "    return a+b"
   ]
  },
  {
   "cell_type": "code",
   "execution_count": 4,
   "id": "31661cc9",
   "metadata": {},
   "outputs": [],
   "source": [
    "load_dotenv()\n",
    "\n",
    "model = ChatGroq(\n",
    "    model= 'llama-3.3-70b-versatile',\n",
    "    temperature=0.3\n",
    ")"
   ]
  },
  {
   "cell_type": "code",
   "execution_count": 5,
   "id": "3d6ffce5",
   "metadata": {},
   "outputs": [],
   "source": [
    "model_with_tools = model.bind_tools([multiply,addition])"
   ]
  },
  {
   "cell_type": "code",
   "execution_count": 12,
   "id": "410d0554",
   "metadata": {},
   "outputs": [],
   "source": [
    "query = HumanMessage(\"Can you multiply 2 and 4\")"
   ]
  },
  {
   "cell_type": "code",
   "execution_count": 15,
   "id": "d831adfb",
   "metadata": {},
   "outputs": [],
   "source": [
    "messages = [query]"
   ]
  },
  {
   "cell_type": "code",
   "execution_count": 16,
   "id": "9a3ba1e8",
   "metadata": {},
   "outputs": [],
   "source": [
    "res = model_with_tools.invoke(messages)"
   ]
  },
  {
   "cell_type": "code",
   "execution_count": 17,
   "id": "76ba8761",
   "metadata": {},
   "outputs": [
    {
     "data": {
      "text/plain": [
       "{'name': 'multiply',\n",
       " 'args': {'a': 2, 'b': 4},\n",
       " 'id': '0ee0b55r6',\n",
       " 'type': 'tool_call'}"
      ]
     },
     "execution_count": 17,
     "metadata": {},
     "output_type": "execute_result"
    }
   ],
   "source": [
    "res.tool_calls[0]"
   ]
  },
  {
   "cell_type": "code",
   "execution_count": 18,
   "id": "50b13f03",
   "metadata": {},
   "outputs": [],
   "source": [
    "messages.append(res)"
   ]
  },
  {
   "cell_type": "code",
   "execution_count": 21,
   "id": "6fe8c4ee",
   "metadata": {},
   "outputs": [],
   "source": [
    "tool_res = multiply.invoke(res.tool_calls[0])"
   ]
  },
  {
   "cell_type": "code",
   "execution_count": 22,
   "id": "ed9b38a7",
   "metadata": {},
   "outputs": [],
   "source": [
    "messages.append(tool_res)"
   ]
  },
  {
   "cell_type": "code",
   "execution_count": 26,
   "id": "229a7193",
   "metadata": {},
   "outputs": [],
   "source": [
    "output = model_with_tools.invoke(messages)"
   ]
  },
  {
   "cell_type": "code",
   "execution_count": 27,
   "id": "dbe7ad1c",
   "metadata": {},
   "outputs": [
    {
     "data": {
      "text/plain": [
       "'The result of multiplying 2 and 4 is 8.'"
      ]
     },
     "execution_count": 27,
     "metadata": {},
     "output_type": "execute_result"
    }
   ],
   "source": [
    "output.content"
   ]
  },
  {
   "cell_type": "code",
   "execution_count": null,
   "id": "ac2a549d",
   "metadata": {},
   "outputs": [],
   "source": []
  }
 ],
 "metadata": {
  "kernelspec": {
   "display_name": "venv",
   "language": "python",
   "name": "python3"
  },
  "language_info": {
   "codemirror_mode": {
    "name": "ipython",
    "version": 3
   },
   "file_extension": ".py",
   "mimetype": "text/x-python",
   "name": "python",
   "nbconvert_exporter": "python",
   "pygments_lexer": "ipython3",
   "version": "3.12.2"
  }
 },
 "nbformat": 4,
 "nbformat_minor": 5
}
